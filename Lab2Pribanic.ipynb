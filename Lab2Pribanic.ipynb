{
  "nbformat": 4,
  "nbformat_minor": 0,
  "metadata": {
    "colab": {
      "name": "Lab2Pribanic.ipynb",
      "provenance": [],
      "include_colab_link": true
    },
    "kernelspec": {
      "name": "python3",
      "display_name": "Python 3"
    }
  },
  "cells": [
    {
      "cell_type": "markdown",
      "metadata": {
        "id": "view-in-github",
        "colab_type": "text"
      },
      "source": [
        "<a href=\"https://colab.research.google.com/github/sprib012/SRA268/blob/master/Lab2Pribanic.ipynb\" target=\"_parent\"><img src=\"https://colab.research.google.com/assets/colab-badge.svg\" alt=\"Open In Colab\"/></a>"
      ]
    },
    {
      "cell_type": "markdown",
      "metadata": {
        "id": "6sOc4Uyr4U-Z",
        "colab_type": "text"
      },
      "source": [
        "## Graph Types Lab"
      ]
    },
    {
      "cell_type": "markdown",
      "metadata": {
        "id": "0zZdVLAd5CYr",
        "colab_type": "text"
      },
      "source": [
        "Creator\n",
        "* Sara Pribanic\n",
        "  "
      ]
    },
    {
      "cell_type": "markdown",
      "metadata": {
        "id": "g-r6Clq45Hn4",
        "colab_type": "text"
      },
      "source": [
        "### Deviation\n"
      ]
    },
    {
      "cell_type": "markdown",
      "metadata": {
        "id": "2gorxo6E7A0t",
        "colab_type": "text"
      },
      "source": [
        "![alt text](https://raw.githubusercontent.com/sprib012/SRA268/master/Download%20Image-5.png)"
      ]
    },
    {
      "cell_type": "markdown",
      "metadata": {
        "id": "w6bZ_NEi7E3w",
        "colab_type": "text"
      },
      "source": [
        "#### What is this telling us?"
      ]
    },
    {
      "cell_type": "markdown",
      "metadata": {
        "id": "95L-spaC7QHF",
        "colab_type": "text"
      },
      "source": [
        "This graph analyzes the total amount of points scored by the following winning teams in the 2011 and 2012 March Madness Tournament; Ohio State, Gonzaga, Florida, BYU, and Cincinnati. The purpose of this graph is to compare the consistency of each of these teams back to back years. This graph provides enough information about each of these teams to show the viewer that each of these programs was consistent in the average number of points they scored in games they won. This also might imply that the programs maintained their competitive status or did not graduate any essential players. A graph like this is not only useful to compare teams who are consistently good, but would be useful to see when teams have a dip in success. "
      ]
    },
    {
      "cell_type": "markdown",
      "metadata": {
        "id": "YgXyXjmz7cDP",
        "colab_type": "text"
      },
      "source": [
        "### Correlation\n"
      ]
    },
    {
      "cell_type": "markdown",
      "metadata": {
        "id": "SGx15rZq7hvt",
        "colab_type": "text"
      },
      "source": [
        "![alt text](https://raw.githubusercontent.com/Jflatley22/SRA-268/master/images/Correlation.png)"
      ]
    },
    {
      "cell_type": "markdown",
      "metadata": {
        "id": "dljjONNi7jmj",
        "colab_type": "text"
      },
      "source": [
        "#### What is this telling us?"
      ]
    },
    {
      "cell_type": "markdown",
      "metadata": {
        "id": "PwZEZrFB7laG",
        "colab_type": "text"
      },
      "source": [
        "This correlation graph analyzes the number of points scored against the seed of the team scoring points. This graph strengthens the assumption that the higher seeded teams are more successful and therefore score more points and win more games. These beliefs are consistent as the graph has a few bumps here and there it is consistency downward sloping. It would be interesting to view a graph like this when the winner of the tournament ends up being a big upset or an underdog makes it farther than they are “supposed to” during a specific year. This graph in particular does not have a specific year range which means the information we can conceive from this graph has generally been consistent since the start of the dataset. "
      ]
    },
    {
      "cell_type": "markdown",
      "metadata": {
        "id": "MqUdI-uL7r2s",
        "colab_type": "text"
      },
      "source": [
        "### Ranking\n"
      ]
    },
    {
      "cell_type": "markdown",
      "metadata": {
        "id": "AvlxCOVt7x9F",
        "colab_type": "text"
      },
      "source": [
        "![alt text](https://raw.githubusercontent.com/sprib012/SRA268/master/Download%20Image-3.png)"
      ]
    },
    {
      "cell_type": "markdown",
      "metadata": {
        "id": "lCAYtfza7yTq",
        "colab_type": "text"
      },
      "source": [
        "#### What is this telling us?"
      ]
    },
    {
      "cell_type": "markdown",
      "metadata": {
        "id": "MyuciD277ygU",
        "colab_type": "text"
      },
      "source": [
        "This graph’s purpose is to rank all of the losing markets based on the number of points they scored in games they lost. This graph is quite significant in size and is very overwhelming to view at first glance. That being said refining the teams included in the graph or the years the graph analyzes would solve that problem. With the current graph though I think it is interesting to see which teams have been consistently good enough to make the tournament but ultimately lose. Arizona is the losing market that has scored the most points losing games. This might express to the viewer that Arizona usually competes in higher scoring games than some of the other teams."
      ]
    },
    {
      "cell_type": "markdown",
      "metadata": {
        "id": "dGDGl8-G7y8Y",
        "colab_type": "text"
      },
      "source": [
        "### Distribution\n"
      ]
    },
    {
      "cell_type": "markdown",
      "metadata": {
        "id": "FB0uV-jy76p9",
        "colab_type": "text"
      },
      "source": [
        "![alt text](https://raw.githubusercontent.com/sprib012/SRA268/master/Download%20Image-7.png)"
      ]
    },
    {
      "cell_type": "markdown",
      "metadata": {
        "id": "_6SOzhrQ76zH",
        "colab_type": "text"
      },
      "source": [
        "#### What is this telling us?"
      ]
    },
    {
      "cell_type": "markdown",
      "metadata": {
        "id": "HBWqsS_g767h",
        "colab_type": "text"
      },
      "source": [
        "This Distribution graph analyzes the number of win points Gonzaga’s basketball program scored from 2000-2017 (any omitted years are years Gonzaga did not make the tournament). This distribution shows the viewer that Gonzaga usually scores anywhere from 60 points to 160 points. From this information the viewer can recognize that Gonzaga usually only wins about one or two game before being eliminated. One reason I like this distribution is because it makes it easy to identify the years that the program has had more success. The only outlier on this graph is the 2017 season when they scored over 350 winning points. This shows that Gonzaga made it unusually far in the tournament, which is consistent with the fact that they played in the championship that year. The biggest downfall of this graph is the color choice, some of the colors used to represent years are not different enough to differentiate the year. "
      ]
    },
    {
      "cell_type": "markdown",
      "metadata": {
        "id": "wQsDThk677Fy",
        "colab_type": "text"
      },
      "source": [
        "### Change over Time\n"
      ]
    },
    {
      "cell_type": "markdown",
      "metadata": {
        "id": "Z1j_YLOA7_OK",
        "colab_type": "text"
      },
      "source": [
        "![alt text](https://raw.githubusercontent.com/sprib012/SRA268/master/Download%20Image-4.png)"
      ]
    },
    {
      "cell_type": "markdown",
      "metadata": {
        "id": "mpfsmmgi7_Vj",
        "colab_type": "text"
      },
      "source": [
        "#### What is this telling us?"
      ]
    },
    {
      "cell_type": "markdown",
      "metadata": {
        "id": "rYLXoMMO7_di",
        "colab_type": "text"
      },
      "source": [
        "This graph illustrates the total number of points scored by losing teams from every year of the March Madness dataset. This graph shows the growth of the game and an increase in level of competitiveness, despite some dips in between seasons since approximately 2000 the number of points losing teams score has been increasing. This tells me that the tournament is getting more high scoring and losing teams are closing the points margin. The one thing about this graph that makes it hard to read is the chunk of space from 0-3500 points where there is not any data. By eliminating this blank space the reader would be able to view and interperet the graph with more ease. "
      ]
    },
    {
      "cell_type": "markdown",
      "metadata": {
        "id": "lFwiHoE-7_jZ",
        "colab_type": "text"
      },
      "source": [
        "### Magnitude\n"
      ]
    },
    {
      "cell_type": "markdown",
      "metadata": {
        "id": "ICQFnXj78EbF",
        "colab_type": "text"
      },
      "source": [
        "![alt text](https://raw.githubusercontent.com/Jflatley22/SRA-268/master/images/Mag2.png)"
      ]
    },
    {
      "cell_type": "markdown",
      "metadata": {
        "id": "QGG7XYG88Eii",
        "colab_type": "text"
      },
      "source": [
        "#### What is this telling us?"
      ]
    },
    {
      "cell_type": "markdown",
      "metadata": {
        "id": "VS7uGa0l8Eos",
        "colab_type": "text"
      },
      "source": [
        "This magnitude graph displays the total number of win points from each winning name. This graph makes it easy to identify which teams have had more success than others. An example would be the Nittany Lions have notably less success than the Tarheels. The downfall of this graph is that it does not include every winning name, but rather every other. Additionally, some markets have the same team name which might skew someones understanding of the graph because the results are actually a combination of two winning markets with the same name. The nice thing about this graph is that the winning names are ordered alphabetically making it easier to find specific teams. "
      ]
    },
    {
      "cell_type": "markdown",
      "metadata": {
        "id": "bEKFxP8R8Evk",
        "colab_type": "text"
      },
      "source": [
        "### Part-to-Whole\n"
      ]
    },
    {
      "cell_type": "markdown",
      "metadata": {
        "id": "WFHlcYKV8E35",
        "colab_type": "text"
      },
      "source": [
        "![alt text](https://raw.githubusercontent.com/sprib012/SRA268/master/Download%20Image-6.png)"
      ]
    },
    {
      "cell_type": "markdown",
      "metadata": {
        "id": "PNSd3wlp8UZH",
        "colab_type": "text"
      },
      "source": [
        "#### What is this telling us?"
      ]
    },
    {
      "cell_type": "markdown",
      "metadata": {
        "id": "y9tb_QRA8aqt",
        "colab_type": "text"
      },
      "source": [
        "This part-to-whole graph analyzes the number of points Gonzaga, Duke, Connecticut,  Arkansas Little-Rock, and Butler scored winning games in the 2016 March Madness Tournament. The viewer of this graph would be able to look at the graph and see that each of this teams had done alright in the tournament. From the pie chart we can infer that Connecticut,  Arkansas Little-Rock, and Butler made it to similar rounds of the tournament as their pieces of the chart are roughly the same size. We can infer that Gonzaga and Duke most likely also both got eliminated in about the same round because the size of their pieces of the chart are not much different in size. The win_pts total is 544 and with the basic information that basketball games usually end up being in the 60s or 70s point range we can also infer that none of these teams won more than 2 or 3 games at most. "
      ]
    }
  ]
}