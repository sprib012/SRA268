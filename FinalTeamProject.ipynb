{
  "nbformat": 4,
  "nbformat_minor": 0,
  "metadata": {
    "colab": {
      "name": "FinalTeamProject.ipynb",
      "provenance": [],
      "collapsed_sections": [],
      "include_colab_link": true
    },
    "kernelspec": {
      "name": "python3",
      "display_name": "Python 3"
    }
  },
  "cells": [
    {
      "cell_type": "markdown",
      "metadata": {
        "id": "view-in-github",
        "colab_type": "text"
      },
      "source": [
        "<a href=\"https://colab.research.google.com/github/sprib012/SRA268/blob/master/FinalTeamProject.ipynb\" target=\"_parent\"><img src=\"https://colab.research.google.com/assets/colab-badge.svg\" alt=\"Open In Colab\"/></a>"
      ]
    },
    {
      "cell_type": "markdown",
      "metadata": {
        "id": "Kw5PZBtl0Ob6",
        "colab_type": "text"
      },
      "source": [
        "# Corona Virus Cases in Pennsylvania Counties"
      ]
    },
    {
      "cell_type": "markdown",
      "metadata": {
        "id": "iXWAmSVB0Rno",
        "colab_type": "text"
      },
      "source": [
        "Contributors:\n",
        "\n",
        "\n",
        "*   Nathan Fangio\n",
        "*   Christina Williamson\n",
        "*   Sara Pribanic\n",
        "*   John Flatley\n",
        "\n",
        "\n"
      ]
    },
    {
      "cell_type": "markdown",
      "metadata": {
        "id": "WpaW-i5l0ZHn",
        "colab_type": "text"
      },
      "source": [
        "## Background"
      ]
    },
    {
      "cell_type": "markdown",
      "metadata": {
        "id": "E4VKsOvP0eev",
        "colab_type": "text"
      },
      "source": [
        "Our group got together and wanted to decide what source of data we should include for our final team project. We knew that we wanted to display something that was relevant in today's world. With very little events taking place and not a lot going on in the world right now, we concluded that the most relevant thing we could display would be the numbers about Coronavirus cases. We all decided that it would be really interesting to see how the coronavirus was spreading through the state of Pennsylvania and its separate counties. We did not want to focus on worldwide Coronavirus cases because we have already been through those sets of data. We then decided that it would be best to focus on the local counties that we are currently quarantined in and around. We all decided that we could collect the data from a few, select local counties in the state of Pennsylvania. The data we were looking for entailed the number of confirmed coronavirus cases in counties such as Allegheny, Philadelphia, and Montgomery. We then wanted to use this data to create a case study that would allow us to visually show where the most and least coronavirus cases were located in Pennsylvania over an elongated period of time. We also wanted to include another dashboard that would display the total number of deaths as time went on in each county along with the total number of cases. This information will help us understand where the most serious cases are located in our state.\n",
        "\n",
        "\n",
        "\n",
        "\n"
      ]
    },
    {
      "cell_type": "markdown",
      "metadata": {
        "id": "7d8vfcGufV0_",
        "colab_type": "text"
      },
      "source": [
        "### Goal"
      ]
    },
    {
      "cell_type": "markdown",
      "metadata": {
        "id": "e1jKSGTjfY2H",
        "colab_type": "text"
      },
      "source": [
        "The goal of our graph is to display the amount of Coronavirus cases over time in Philadelphia, Montgomery, and Allegheny counties. The goal of our second graph is to display the amount of deaths per case of Coronavirus in these counties.\n"
      ]
    },
    {
      "cell_type": "markdown",
      "metadata": {
        "id": "GOxy_TvCfi54",
        "colab_type": "text"
      },
      "source": [
        "### Assumptions"
      ]
    },
    {
      "cell_type": "markdown",
      "metadata": {
        "id": "cw1v_1MMfnAR",
        "colab_type": "text"
      },
      "source": [
        "*   Philadelphia county has the most cases of the three counties due to having the largest population.\n",
        "*   Cases will spread more rapidly in Philadelphia county.\n",
        "*   Montgomery county will have the least amount of cases.\n",
        "*   Cases will decrease faster in Montgomery county than the other two counties.\n",
        "*   The longer people are in quarantine, the faster the amount of cases per day will begin to decrease.\n",
        "*   Cases spread more rapidly in areas that have more people per square mile.\n",
        "*   An increase in cases will increase the probability of deaths in the county.\n",
        "*   Smaller counties such as Montgomery will see the least amount of deaths per day.\n",
        "*   Allegheny county will have more deaths than Montgomery county, but less deaths than Philadelphia county.\n",
        "*   Cases are more frequent in Philadelphia due to larger populations living in poverty, and close proximity.\n",
        "\n"
      ]
    },
    {
      "cell_type": "markdown",
      "metadata": {
        "id": "jKGILpu7gWr6",
        "colab_type": "text"
      },
      "source": [
        "### Data Sources"
      ]
    },
    {
      "cell_type": "markdown",
      "metadata": {
        "id": "uwCao7AtgbNn",
        "colab_type": "text"
      },
      "source": [
        "We chose to look at Coronavirus case data as it is a very relevant topic right now that is impacting the entire world. We wanted to look more specifically into the Philadelphia, Allegheny, and Montgomery counties as many Penn State students reside in these areas. Allegheny and Philadelphia counties are the two most populous counties in Pennsylvania so we thought it would be insightful to compare them against each other. Montgomery was also chosen as it has a significantly smaller population which affects the overall spread of Coronavirus in that area. We gathered this data from each of the counties respective websites. In total, we used three different sites to gather all of our information. These websites provided daily numbers of cases and deaths within these counties. The data is reliable and accurate as the county has direct access to these figures, and has released them to the public. These sites are being updated daily, and accurately representing the cases as well as deaths per case in these areas. We decided to put all of this data in one spot by inserting it all into an Excel spreadsheet. For the data from Philadelphia county, we were able to download it directly from the website and upload it into Excel. On the other hand,  we were not able to directly download the data for Allegheny county and in turn had to manually input it into the Excel spreadsheet we created. The data from Montgomery county was also input manually from the website into the spreadsheet. By having all of the data on this singular spreadsheet, we were easily able to upload it into Tableau to create our graphs.\n"
      ]
    },
    {
      "cell_type": "markdown",
      "metadata": {
        "id": "kDgSdoQUgg2Z",
        "colab_type": "text"
      },
      "source": [
        "#### Sources"
      ]
    },
    {
      "cell_type": "markdown",
      "metadata": {
        "id": "dFzYIi0Agi2_",
        "colab_type": "text"
      },
      "source": [
        "- https://data-montcopa.opendata.arcgis.com/pages/covid-19\n",
        "- https://www.alleghenycounty.us/Health-Department/Resources/COVID-19/COVID-19.aspx\n",
        "- https://www.phila.gov/programs/coronavirus-disease-2019-covid-19/testing-and-data/#download-data"
      ]
    },
    {
      "cell_type": "markdown",
      "metadata": {
        "id": "qcFak2v7g3jt",
        "colab_type": "text"
      },
      "source": [
        "## Dashboard (5)"
      ]
    },
    {
      "cell_type": "code",
      "metadata": {
        "id": "knG79vNP0Q0u",
        "colab_type": "code",
        "outputId": "13e4393f-58cb-4890-803a-bd8b3d0caf9d",
        "colab": {
          "base_uri": "https://localhost:8080/",
          "height": 824
        }
      },
      "source": [
        "import IPython\n",
        "IPython.display.HTML(\"x\")\n",
        "IPython.display.HTML(\"<div class='tableauPlaceholder' id='viz1587614224128' style='position: relative'><noscript><a href='#'><img alt=' ' src='https:&#47;&#47;public.tableau.com&#47;static&#47;images&#47;Fi&#47;FinalTeamProject_15876138198810&#47;Dashboard1&#47;1_rss.png' style='border: none' /></a></noscript><object class='tableauViz'  style='display:none;'><param name='host_url' value='https%3A%2F%2Fpublic.tableau.com%2F' /> <param name='embed_code_version' value='3' /> <param name='site_root' value='' /><param name='name' value='FinalTeamProject_15876138198810&#47;Dashboard1' /><param name='tabs' value='no' /><param name='toolbar' value='yes' /><param name='static_image' value='https:&#47;&#47;public.tableau.com&#47;static&#47;images&#47;Fi&#47;FinalTeamProject_15876138198810&#47;Dashboard1&#47;1.png' /> <param name='animate_transition' value='yes' /><param name='display_static_image' value='yes' /><param name='display_spinner' value='yes' /><param name='display_overlay' value='yes' /><param name='display_count' value='yes' /></object></div>                <script type='text/javascript'>                    var divElement = document.getElementById('viz1587614224128');                    var vizElement = divElement.getElementsByTagName('object')[0];                    if ( divElement.offsetWidth > 800 ) { vizElement.style.minWidth='420px';vizElement.style.maxWidth='650px';vizElement.style.width='100%';vizElement.style.minHeight='587px';vizElement.style.maxHeight='887px';vizElement.style.height=(divElement.offsetWidth*0.75)+'px';} else if ( divElement.offsetWidth > 500 ) { vizElement.style.minWidth='420px';vizElement.style.maxWidth='650px';vizElement.style.width='100%';vizElement.style.minHeight='587px';vizElement.style.maxHeight='887px';vizElement.style.height=(divElement.offsetWidth*0.75)+'px';} else { vizElement.style.width='100%';vizElement.style.height='877px';}                     var scriptElement = document.createElement('script');                    scriptElement.src = 'https://public.tableau.com/javascripts/api/viz_v1.js';                    vizElement.parentNode.insertBefore(scriptElement, vizElement);                </script>\") # can't find image "
      ],
      "execution_count": 0,
      "outputs": [
        {
          "output_type": "execute_result",
          "data": {
            "text/html": [
              "<div class='tableauPlaceholder' id='viz1587614224128' style='position: relative'><noscript><a href='#'><img alt=' ' src='https:&#47;&#47;public.tableau.com&#47;static&#47;images&#47;Fi&#47;FinalTeamProject_15876138198810&#47;Dashboard1&#47;1_rss.png' style='border: none' /></a></noscript><object class='tableauViz'  style='display:none;'><param name='host_url' value='https%3A%2F%2Fpublic.tableau.com%2F' /> <param name='embed_code_version' value='3' /> <param name='site_root' value='' /><param name='name' value='FinalTeamProject_15876138198810&#47;Dashboard1' /><param name='tabs' value='no' /><param name='toolbar' value='yes' /><param name='static_image' value='https:&#47;&#47;public.tableau.com&#47;static&#47;images&#47;Fi&#47;FinalTeamProject_15876138198810&#47;Dashboard1&#47;1.png' /> <param name='animate_transition' value='yes' /><param name='display_static_image' value='yes' /><param name='display_spinner' value='yes' /><param name='display_overlay' value='yes' /><param name='display_count' value='yes' /></object></div>                <script type='text/javascript'>                    var divElement = document.getElementById('viz1587614224128');                    var vizElement = divElement.getElementsByTagName('object')[0];                    if ( divElement.offsetWidth > 800 ) { vizElement.style.minWidth='420px';vizElement.style.maxWidth='650px';vizElement.style.width='100%';vizElement.style.minHeight='587px';vizElement.style.maxHeight='887px';vizElement.style.height=(divElement.offsetWidth*0.75)+'px';} else if ( divElement.offsetWidth > 500 ) { vizElement.style.minWidth='420px';vizElement.style.maxWidth='650px';vizElement.style.width='100%';vizElement.style.minHeight='587px';vizElement.style.maxHeight='887px';vizElement.style.height=(divElement.offsetWidth*0.75)+'px';} else { vizElement.style.width='100%';vizElement.style.height='877px';}                     var scriptElement = document.createElement('script');                    scriptElement.src = 'https://public.tableau.com/javascripts/api/viz_v1.js';                    vizElement.parentNode.insertBefore(scriptElement, vizElement);                </script>"
            ],
            "text/plain": [
              "<IPython.core.display.HTML object>"
            ]
          },
          "metadata": {
            "tags": []
          },
          "execution_count": 1
        }
      ]
    },
    {
      "cell_type": "markdown",
      "metadata": {
        "id": "SvWfnlDjnos1",
        "colab_type": "text"
      },
      "source": [
        "## Conclusion"
      ]
    },
    {
      "cell_type": "markdown",
      "metadata": {
        "id": "rfWefr2gnxOG",
        "colab_type": "text"
      },
      "source": [
        "Overall, this project provided us with very interesting, as well as, incredibly relevant data as we are from Pennsylvania. As stated in our background, worldwide Coronavirus cases, although important, have already been exposed to us through the previous lab. Narrowing in on Philadelphia, Montgomery, and Allegheny counties focuses on the cases much more local to our homes. Understanding these rates is important as the rise of cases and deaths per case directly affects how our counties are instructed to go about everyday life. Our original intent was to first showcase the amount of daily Coronavirus cases starting on March 11, 2020 up to April 21, 2020 in Philadelphia, Montgomery, and Allegheny counties. Second, the second graph was meant to showcase the amount of deaths per case of Coronavirus in said counties. After analyzing the data and displaying it through Tableau, many of our assumptions proved to be true. For example, our first assumption stating that Philadelphia county has the largest number of cases out of the three counties proved to be true. This can be seen in the first graph with Philadelphia county being represented as the green line and it makes sense as this county has the highest population and the city itself includes urban living, which keeps households from being able to social-distance as well as suburban communities. Additionally, our assumption that cases in Philadelphia County would spread more rapidly proved to be true and this is also showcased in the first graph through the change over time. Around March 29, 2020, Philadelphia county’s rapid increase in the number of cases becomes prominent as it breaks away from the other two dramatically. Montgomery County finishes in second but the difference between Montgomery and Allegheny are insignificant compared to that of Montgomery and Philadelphia. Moreover, the second graph disproved the assumption that Allegheny would have more deaths than Montgomery County as the pattern in the first graph (cases in the counties) was practically mirrored in the second (deaths). The second graph may have seemed pointless, however, different measures being taken and rules being implemented in different counties could be what affects the number of those dying from the virus. The overall demographic of the county itself may also be a factor in the number of cases resulting in deaths. Additionally, it is well-known that the virus affects those with compromised immune systems and elderly more than others. Thus, if a county had a higher percentage of individuals that fell under such categories, their deaths might not necessarily be consistent with the number of cases. Consequently, the second graph is very important even if after comparing the two there does not seem to be much of a difference. Something else that is important to note, is that population differences certainly affect the number of cases and number of deaths. Thus, the segment on the side that includes the percentages of cases that resulted in death is vital to take into consideration. Philadelphia County clearly had higher numbers of cases and deaths but the percentages of cases that resulted in death was a mere 4%, while Montgomery County was 6% and Allegheny being 7%. Seeing these numbers may cause the graphs to be less alarming for any viewers dwelling in Philadelphia County. Overall, these data sets and comparing them in this style were very helpful and very relevant to our current situations. This pandemic has changed the way society functions day-to-day and must be understood by all individuals in order to head in a positive direction.\n",
        "\n"
      ]
    },
    {
      "cell_type": "code",
      "metadata": {
        "id": "GiYDwrUYn0k0",
        "colab_type": "code",
        "colab": {}
      },
      "source": [
        ""
      ],
      "execution_count": 0,
      "outputs": []
    }
  ]
}