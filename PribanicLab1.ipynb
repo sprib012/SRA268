{
  "nbformat": 4,
  "nbformat_minor": 0,
  "metadata": {
    "colab": {
      "name": "firstNotebook.ipynb",
      "provenance": [],
      "authorship_tag": "ABX9TyPThKUA9Pxqj/q43dChMhPz",
      "include_colab_link": true
    },
    "kernelspec": {
      "name": "python3",
      "display_name": "Python 3"
    }
  },
  "cells": [
    {
      "cell_type": "markdown",
      "metadata": {
        "id": "view-in-github",
        "colab_type": "text"
      },
      "source": [
        "<a href=\"https://colab.research.google.com/github/sprib012/SRA268/blob/master/PribanicLab1.ipynb\" target=\"_parent\"><img src=\"https://colab.research.google.com/assets/colab-badge.svg\" alt=\"Open In Colab\"/></a>"
      ]
    },
    {
      "cell_type": "markdown",
      "metadata": {
        "id": "Yi8BXA3o5d7x",
        "colab_type": "text"
      },
      "source": [
        "## **Average Quarterly Precipitation 2018**"
      ]
    },
    {
      "cell_type": "markdown",
      "metadata": {
        "id": "tpDIvypm50Vs",
        "colab_type": "text"
      },
      "source": [
        "### *Outline*"
      ]
    },
    {
      "cell_type": "markdown",
      "metadata": {
        "id": "DTXhRAOy6C0W",
        "colab_type": "text"
      },
      "source": [
        "This graph’s function is to take the data about amount precipitation in State College from each quarter of 2018 and display it to make the data more accessible and easier to compare. This graph will be formatted as a bar chart to maximize user accessibility and help the user visualize which quarters experience the most precipitation and which months experience the least precipitation in State College. "
      ]
    },
    {
      "cell_type": "markdown",
      "metadata": {
        "id": "LyIrjPfyb9Tc",
        "colab_type": "text"
      },
      "source": [
        "### *Sketch*"
      ]
    },
    {
      "cell_type": "markdown",
      "metadata": {
        "id": "vEyrOzaKKvEM",
        "colab_type": "text"
      },
      "source": [
        "![alt text](https://raw.githubusercontent.com/sprib012/SRA268/master/Screen%20Shot%202020-01-24%20at%203.08.28%20PM.png)\n"
      ]
    },
    {
      "cell_type": "markdown",
      "metadata": {
        "id": "ZrUlLzamb6EZ",
        "colab_type": "text"
      },
      "source": [
        "### *Conclusion*"
      ]
    },
    {
      "cell_type": "markdown",
      "metadata": {
        "id": "2o-c_YjZcONP",
        "colab_type": "text"
      },
      "source": [
        "###### The graph is setup to include an x and y axis that represent how many inches of precipitation and which quarter the precipitation occurred in, broken up by: Jan. - March, April - June, July - September, and Oct. - Dec. The graph easily illustrates that the later summer months are when the most precipitation typically occurs in State College, Pennsylvania. "
      ]
    }
  ]
}