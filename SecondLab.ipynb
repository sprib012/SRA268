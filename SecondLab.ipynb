{
  "nbformat": 4,
  "nbformat_minor": 0,
  "metadata": {
    "colab": {
      "name": "SecondLab.ipynb",
      "provenance": [],
      "collapsed_sections": [],
      "include_colab_link": true
    },
    "kernelspec": {
      "name": "python3",
      "display_name": "Python 3"
    }
  },
  "cells": [
    {
      "cell_type": "markdown",
      "metadata": {
        "id": "view-in-github",
        "colab_type": "text"
      },
      "source": [
        "<a href=\"https://colab.research.google.com/github/sprib012/SRA268/blob/master/SecondLab.ipynb\" target=\"_parent\"><img src=\"https://colab.research.google.com/assets/colab-badge.svg\" alt=\"Open In Colab\"/></a>"
      ]
    },
    {
      "cell_type": "markdown",
      "metadata": {
        "id": "-1oBe0oT-n_S",
        "colab_type": "text"
      },
      "source": [
        "# The Good, The Bad, and The Ugly"
      ]
    },
    {
      "cell_type": "markdown",
      "metadata": {
        "id": "gvKtHan2_E6i",
        "colab_type": "text"
      },
      "source": [
        "### Creators"
      ]
    },
    {
      "cell_type": "markdown",
      "metadata": {
        "id": "WpqjJ3TM_JYo",
        "colab_type": "text"
      },
      "source": [
        "\n",
        "*   Nathan Fangio\n",
        "*   Jon Flatley\n",
        "*   Christina Williamson\n",
        "*   Sara Pribanic\n",
        "\n",
        "\n"
      ]
    },
    {
      "cell_type": "markdown",
      "metadata": {
        "id": "Qzf8DyI3_tTW",
        "colab_type": "text"
      },
      "source": [
        "### Original Project (Assignment 1)"
      ]
    },
    {
      "cell_type": "markdown",
      "metadata": {
        "id": "LJrRATlYCK8i",
        "colab_type": "text"
      },
      "source": [
        "**Precipitation in State College**"
      ]
    },
    {
      "cell_type": "markdown",
      "metadata": {
        "id": "HVJYOGW5D8RD",
        "colab_type": "text"
      },
      "source": [
        "With the data provided regarding precipitation and snowfall in State College, I decided to take a subset of the data. I took the data from the first of January of each year in order to compare the differences in precipitation and snowfall throughout the years. In my opinion, this was the best way to highlight differences in weather throughout the years."
      ]
    },
    {
      "cell_type": "markdown",
      "metadata": {
        "id": "scTGSx9oAN5C",
        "colab_type": "text"
      },
      "source": [
        "![alt text](https://raw.githubusercontent.com/cwilliamson1229/Lab1Image/master/Graph/IMG_3897.jpeg)\n"
      ]
    },
    {
      "cell_type": "markdown",
      "metadata": {
        "id": "G5OuBX_iBykm",
        "colab_type": "text"
      },
      "source": [
        "Overall, the subset of data did not portray as much as I would have liked to the viewers. I attempted to utilize different colors in order to take advantage of visualization. However, the dates I took my data from had no snowfall. Thus, it seemed as though I was comparing nothing on my graph.\n"
      ]
    },
    {
      "cell_type": "markdown",
      "metadata": {
        "id": "8WhpKI1qEWhc",
        "colab_type": "text"
      },
      "source": [
        "## Team Project 1"
      ]
    },
    {
      "cell_type": "markdown",
      "metadata": {
        "id": "GOrMxDamEfwZ",
        "colab_type": "text"
      },
      "source": [
        "Write up"
      ]
    },
    {
      "cell_type": "markdown",
      "metadata": {
        "id": "bUVISkluEkFh",
        "colab_type": "text"
      },
      "source": [
        "### The Good"
      ]
    },
    {
      "cell_type": "markdown",
      "metadata": {
        "id": "1j8SvGPKEpBn",
        "colab_type": "text"
      },
      "source": [
        "The graph below can be classified as \"the Good\" and is sufficient for the data being displayed, which is the precipitation and snowfall for the first of each year from January 1st 2000 up to 2020. We chose to take advantage of a bar graph for this data as the x axis can represent the 1st of each year and the same 2 colors are used to display the information for each year. The dynamic of a bar graph allows color to compare the 2 measurements side by side while also viewing the differences in precipitation and snowfall year by year.                                                                                                                                                                                                                                                                                                                                                                                                             "
      ]
    },
    {
      "cell_type": "code",
      "metadata": {
        "id": "CeQ4d6erttQQ",
        "colab_type": "code",
        "outputId": "af3c428e-9d31-4f1c-b11b-61bebbc773af",
        "colab": {
          "base_uri": "https://localhost:8080/",
          "height": 947
        }
      },
      "source": [
        "  import IPython \n",
        "  IPython.display.HTML(\"<div class='tableauPlaceholder' id='viz1580878731891' style='position: relative'><noscript><a href='#'><img alt=' ' src='https:&#47;&#47;public.tableau.com&#47;static&#47;images&#47;La&#47;Lab2_15804819349760&#47;Sheet1&#47;1_rss.png' style='border: none' /></a></noscript><object class='tableauViz'  style='display:none;'><param name='host_url' value='https%3A%2F%2Fpublic.tableau.com%2F' /> <param name='embed_code_version' value='3' /> <param name='site_root' value='' /><param name='name' value='Lab2_15804819349760&#47;Sheet1' /><param name='tabs' value='no' /><param name='toolbar' value='yes' /><param name='static_image' value='https:&#47;&#47;public.tableau.com&#47;static&#47;images&#47;La&#47;Lab2_15804819349760&#47;Sheet1&#47;1.png' /> <param name='animate_transition' value='yes' /><param name='display_static_image' value='yes' /><param name='display_spinner' value='yes' /><param name='display_overlay' value='yes' /><param name='display_count' value='yes' /></object></div>                <script type='text/javascript'>                    var divElement = document.getElementById('viz1580878731891');                    var vizElement = divElement.getElementsByTagName('object')[0];                    vizElement.style.width='100%';vizElement.style.height=(divElement.offsetWidth*0.75)+'px';                    var scriptElement = document.createElement('script');                    scriptElement.src = 'https://public.tableau.com/javascripts/api/viz_v1.js';                    vizElement.parentNode.insertBefore(scriptElement, vizElement);                </script>\")"
      ],
      "execution_count": 0,
      "outputs": [
        {
          "output_type": "execute_result",
          "data": {
            "text/html": [
              "<div class='tableauPlaceholder' id='viz1580878731891' style='position: relative'><noscript><a href='#'><img alt=' ' src='https:&#47;&#47;public.tableau.com&#47;static&#47;images&#47;La&#47;Lab2_15804819349760&#47;Sheet1&#47;1_rss.png' style='border: none' /></a></noscript><object class='tableauViz'  style='display:none;'><param name='host_url' value='https%3A%2F%2Fpublic.tableau.com%2F' /> <param name='embed_code_version' value='3' /> <param name='site_root' value='' /><param name='name' value='Lab2_15804819349760&#47;Sheet1' /><param name='tabs' value='no' /><param name='toolbar' value='yes' /><param name='static_image' value='https:&#47;&#47;public.tableau.com&#47;static&#47;images&#47;La&#47;Lab2_15804819349760&#47;Sheet1&#47;1.png' /> <param name='animate_transition' value='yes' /><param name='display_static_image' value='yes' /><param name='display_spinner' value='yes' /><param name='display_overlay' value='yes' /><param name='display_count' value='yes' /></object></div>                <script type='text/javascript'>                    var divElement = document.getElementById('viz1580878731891');                    var vizElement = divElement.getElementsByTagName('object')[0];                    vizElement.style.width='100%';vizElement.style.height=(divElement.offsetWidth*0.75)+'px';                    var scriptElement = document.createElement('script');                    scriptElement.src = 'https://public.tableau.com/javascripts/api/viz_v1.js';                    vizElement.parentNode.insertBefore(scriptElement, vizElement);                </script>"
            ],
            "text/plain": [
              "<IPython.core.display.HTML object>"
            ]
          },
          "metadata": {
            "tags": []
          },
          "execution_count": 3
        }
      ]
    },
    {
      "cell_type": "markdown",
      "metadata": {
        "id": "XXhIFfgAvFSh",
        "colab_type": "text"
      },
      "source": [
        "### The Bad"
      ]
    },
    {
      "cell_type": "markdown",
      "metadata": {
        "id": "74g9NRsPvILR",
        "colab_type": "text"
      },
      "source": [
        "The graph below can be classified as \"the Bad\" as it is not a good representation of our data. The graph shows the amount of precipitation and snowfall on January 1st from 2000 up to 2020. One bad thing about this graph is that it is visually just confusing. It is hard to tell which color represents each date. Also, a lot of the colors appear too similar with the multiple shades of yellow and purple. Another problem with the graph is that you can't look at it and tell how much precipitation occurred each day without hovering over each individual slice of the pie chart. This makes the graph a lot less presentable to others as you would have to take time to see how much precipitation happened in each slice of the pie. Overall, this graph is too hard to read and not clear enough to demonstrate any possible trends throughout the years shown."
      ]
    },
    {
      "cell_type": "code",
      "metadata": {
        "id": "XRwbEIQpufAu",
        "colab_type": "code",
        "outputId": "d9460bba-70e9-4c1e-eacf-838733bbf550",
        "colab": {
          "base_uri": "https://localhost:8080/",
          "height": 947
        }
      },
      "source": [
        "import IPython\n",
        "IPython.display.HTML(\"<div class='tableauPlaceholder' id='viz1580878984506' style='position: relative'><noscript><a href='#'><img alt=' ' src='https:&#47;&#47;public.tableau.com&#47;static&#47;images&#47;La&#47;Lab2BAD&#47;Sheet1&#47;1_rss.png' style='border: none' /></a></noscript><object class='tableauViz'  style='display:none;'><param name='host_url' value='https%3A%2F%2Fpublic.tableau.com%2F' /> <param name='embed_code_version' value='3' /> <param name='site_root' value='' /><param name='name' value='Lab2BAD&#47;Sheet1' /><param name='tabs' value='no' /><param name='toolbar' value='yes' /><param name='static_image' value='https:&#47;&#47;public.tableau.com&#47;static&#47;images&#47;La&#47;Lab2BAD&#47;Sheet1&#47;1.png' /> <param name='animate_transition' value='yes' /><param name='display_static_image' value='yes' /><param name='display_spinner' value='yes' /><param name='display_overlay' value='yes' /><param name='display_count' value='yes' /></object></div>                <script type='text/javascript'>                    var divElement = document.getElementById('viz1580878984506');                    var vizElement = divElement.getElementsByTagName('object')[0];                    vizElement.style.width='100%';vizElement.style.height=(divElement.offsetWidth*0.75)+'px';                    var scriptElement = document.createElement('script');                    scriptElement.src = 'https://public.tableau.com/javascripts/api/viz_v1.js';                    vizElement.parentNode.insertBefore(scriptElement, vizElement);                </script>\")"
      ],
      "execution_count": 0,
      "outputs": [
        {
          "output_type": "execute_result",
          "data": {
            "text/html": [
              "<div class='tableauPlaceholder' id='viz1580878984506' style='position: relative'><noscript><a href='#'><img alt=' ' src='https:&#47;&#47;public.tableau.com&#47;static&#47;images&#47;La&#47;Lab2BAD&#47;Sheet1&#47;1_rss.png' style='border: none' /></a></noscript><object class='tableauViz'  style='display:none;'><param name='host_url' value='https%3A%2F%2Fpublic.tableau.com%2F' /> <param name='embed_code_version' value='3' /> <param name='site_root' value='' /><param name='name' value='Lab2BAD&#47;Sheet1' /><param name='tabs' value='no' /><param name='toolbar' value='yes' /><param name='static_image' value='https:&#47;&#47;public.tableau.com&#47;static&#47;images&#47;La&#47;Lab2BAD&#47;Sheet1&#47;1.png' /> <param name='animate_transition' value='yes' /><param name='display_static_image' value='yes' /><param name='display_spinner' value='yes' /><param name='display_overlay' value='yes' /><param name='display_count' value='yes' /></object></div>                <script type='text/javascript'>                    var divElement = document.getElementById('viz1580878984506');                    var vizElement = divElement.getElementsByTagName('object')[0];                    vizElement.style.width='100%';vizElement.style.height=(divElement.offsetWidth*0.75)+'px';                    var scriptElement = document.createElement('script');                    scriptElement.src = 'https://public.tableau.com/javascripts/api/viz_v1.js';                    vizElement.parentNode.insertBefore(scriptElement, vizElement);                </script>"
            ],
            "text/plain": [
              "<IPython.core.display.HTML object>"
            ]
          },
          "metadata": {
            "tags": []
          },
          "execution_count": 4
        }
      ]
    },
    {
      "cell_type": "markdown",
      "metadata": {
        "id": "pojgyIdkvNMq",
        "colab_type": "text"
      },
      "source": [
        "### The Ugly"
      ]
    },
    {
      "cell_type": "markdown",
      "metadata": {
        "id": "QaSaKyg6vPVL",
        "colab_type": "text"
      },
      "source": [
        "This encoding would be considered “The Ugly” visual that our group has provided. While the visual displays all data correctly, the graph chosen to present the information would not be the best choice. By separating precipitation and snowfall into two different fields, this may confuse readers who are trying to understand the visual. It may be tricky for people to decide whether or not this visual is comparing differences or showing data of precipitation and rain. There is also an excessive amount of white space between data points. The format of this bar graph may allow users to think that the data was never finished, or that it may be inaccurate."
      ]
    },
    {
      "cell_type": "code",
      "metadata": {
        "id": "S7k_kgwHua3Z",
        "colab_type": "code",
        "outputId": "5af862c3-80f8-477f-e788-1b706c59ff8b",
        "colab": {
          "base_uri": "https://localhost:8080/",
          "height": 947
        }
      },
      "source": [
        "import IPython\n",
        "IPython.display.HTML(\"<div class='tableauPlaceholder' id='viz1580879026104' style='position: relative'><noscript><a href='#'><img alt=' ' src='https:&#47;&#47;public.tableau.com&#47;static&#47;images&#47;La&#47;Lab2UGLY&#47;Sheet1&#47;1_rss.png' style='border: none' /></a></noscript><object class='tableauViz'  style='display:none;'><param name='host_url' value='https%3A%2F%2Fpublic.tableau.com%2F' /> <param name='embed_code_version' value='3' /> <param name='site_root' value='' /><param name='name' value='Lab2UGLY&#47;Sheet1' /><param name='tabs' value='no' /><param name='toolbar' value='yes' /><param name='static_image' value='https:&#47;&#47;public.tableau.com&#47;static&#47;images&#47;La&#47;Lab2UGLY&#47;Sheet1&#47;1.png' /> <param name='animate_transition' value='yes' /><param name='display_static_image' value='yes' /><param name='display_spinner' value='yes' /><param name='display_overlay' value='yes' /><param name='display_count' value='yes' /></object></div>                <script type='text/javascript'>                    var divElement = document.getElementById('viz1580879026104');                    var vizElement = divElement.getElementsByTagName('object')[0];                    vizElement.style.width='100%';vizElement.style.height=(divElement.offsetWidth*0.75)+'px';                    var scriptElement = document.createElement('script');                    scriptElement.src = 'https://public.tableau.com/javascripts/api/viz_v1.js';                    vizElement.parentNode.insertBefore(scriptElement, vizElement);                </script>\")"
      ],
      "execution_count": 0,
      "outputs": [
        {
          "output_type": "execute_result",
          "data": {
            "text/html": [
              "<div class='tableauPlaceholder' id='viz1580879026104' style='position: relative'><noscript><a href='#'><img alt=' ' src='https:&#47;&#47;public.tableau.com&#47;static&#47;images&#47;La&#47;Lab2UGLY&#47;Sheet1&#47;1_rss.png' style='border: none' /></a></noscript><object class='tableauViz'  style='display:none;'><param name='host_url' value='https%3A%2F%2Fpublic.tableau.com%2F' /> <param name='embed_code_version' value='3' /> <param name='site_root' value='' /><param name='name' value='Lab2UGLY&#47;Sheet1' /><param name='tabs' value='no' /><param name='toolbar' value='yes' /><param name='static_image' value='https:&#47;&#47;public.tableau.com&#47;static&#47;images&#47;La&#47;Lab2UGLY&#47;Sheet1&#47;1.png' /> <param name='animate_transition' value='yes' /><param name='display_static_image' value='yes' /><param name='display_spinner' value='yes' /><param name='display_overlay' value='yes' /><param name='display_count' value='yes' /></object></div>                <script type='text/javascript'>                    var divElement = document.getElementById('viz1580879026104');                    var vizElement = divElement.getElementsByTagName('object')[0];                    vizElement.style.width='100%';vizElement.style.height=(divElement.offsetWidth*0.75)+'px';                    var scriptElement = document.createElement('script');                    scriptElement.src = 'https://public.tableau.com/javascripts/api/viz_v1.js';                    vizElement.parentNode.insertBefore(scriptElement, vizElement);                </script>"
            ],
            "text/plain": [
              "<IPython.core.display.HTML object>"
            ]
          },
          "metadata": {
            "tags": []
          },
          "execution_count": 5
        }
      ]
    }
  ]
}